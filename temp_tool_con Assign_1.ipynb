{
 "cells": [
  {
   "cell_type": "code",
   "execution_count": 1,
   "metadata": {},
   "outputs": [
    {
     "name": "stdout",
     "output_type": "stream",
     "text": [
      "\n",
      "Temperature Converter:\n",
      "1. Celsius to Fahrenheit\n",
      "2. Fahrenheit to Celsius\n",
      "3. Exit\n",
      "Your choice is:  1\n",
      "Entered celsius is:  100.0 °C\n",
      "Result, celsius to fahrenheit:  212.0 °F\n",
      "\n",
      "Temperature Converter:\n",
      "1. Celsius to Fahrenheit\n",
      "2. Fahrenheit to Celsius\n",
      "3. Exit\n",
      "Your choice is:  3\n",
      "Exiting Temperature Converter...\n"
     ]
    }
   ],
   "source": [
    "while True:\n",
    "  print(\"\\nTemperature Converter:\")\n",
    "  print(\"1. Celsius to Fahrenheit\")\n",
    "  print(\"2. Fahrenheit to Celsius\")\n",
    "  print(\"3. Exit\")\n",
    "\n",
    "  choice = int(input(\"Enter your choice (1-3): \"))\n",
    "  print(\"Your choice is: \",choice)\n",
    "\n",
    "  if choice==1:\n",
    "        temp=float(input(\"enter temperature for (celsius to fahrenheit) : \"))\n",
    "        print(\"Entered celsius is: \",temp,\"°C\")\n",
    "  elif choice==2:\n",
    "        temp=float(input(\"enter temperature for (fahrenheit to celsius) : \"))\n",
    "        print(\"Entered fahrenheit is: \",temp,\"°F\")\n",
    "\n",
    "  if choice==1:\n",
    "      Fahrenheit=(temp * 9/5) + 32\n",
    "      print(\"Result, celsius to fahrenheit: \",Fahrenheit,\"°F\")\n",
    "  elif choice==2:\n",
    "       Celsius=(temp - 32) * 5/9\n",
    "       print(\"Result, fahrenheit to celsius: \",Celsius,\"°C\") \n",
    "  elif choice==3:\n",
    "      print(\"Exiting Temperature Converter...\")\n",
    "      break\n",
    "  else:\n",
    "       print(\"Invalid input. Please enter a number.\")\n",
    "       break\n",
    "\n",
    "       \n"
   ]
  }
 ],
 "metadata": {
  "kernelspec": {
   "display_name": "Python 3",
   "language": "python",
   "name": "python3"
  },
  "language_info": {
   "codemirror_mode": {
    "name": "ipython",
    "version": 3
   },
   "file_extension": ".py",
   "mimetype": "text/x-python",
   "name": "python",
   "nbconvert_exporter": "python",
   "pygments_lexer": "ipython3",
   "version": "3.12.3"
  }
 },
 "nbformat": 4,
 "nbformat_minor": 2
}
