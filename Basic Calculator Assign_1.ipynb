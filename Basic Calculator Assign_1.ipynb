{
 "cells": [
  {
   "cell_type": "code",
   "execution_count": 1,
   "metadata": {},
   "outputs": [
    {
     "name": "stdout",
     "output_type": "stream",
     "text": [
      "\n",
      "Select operation:\n",
      "1. Add\n",
      "2. Subtract\n",
      "3. Multiply\n",
      "4. Divide\n",
      "5. Modulus\n",
      "6. Floor Division\n",
      "7. Exponential\n",
      "8. Exit\n",
      "Your choice is:  1\n",
      "Entered num1 is:  3\n",
      "Entered num2 is:  5\n",
      "\n",
      "Addtion of two given numbers 3 + 5 = 8\n",
      "\n",
      "Select operation:\n",
      "1. Add\n",
      "2. Subtract\n",
      "3. Multiply\n",
      "4. Divide\n",
      "5. Modulus\n",
      "6. Floor Division\n",
      "7. Exponential\n",
      "8. Exit\n",
      "Your choice is:  8\n",
      "\n",
      "Exiting calculator...\n"
     ]
    }
   ],
   "source": [
    "while(True):\n",
    "    print(\"\\nSelect operation:\")\n",
    "    print(\"1. Add\")\n",
    "    print(\"2. Subtract\")\n",
    "    print(\"3. Multiply\")\n",
    "    print(\"4. Divide\")\n",
    "    print(\"5. Modulus\")\n",
    "    print(\"6. Floor Division\")\n",
    "    print(\"7. Exponential\")\n",
    "    print(\"8. Exit\")\n",
    "\n",
    "    choice = int(input(\"\\nEnter your choice (1-8): \"))\n",
    "    print(\"Your choice is: \",choice)\n",
    "\n",
    "    if choice<8:\n",
    "        num1=int(input(\"enter num 1: \"))\n",
    "        print(\"Entered num1 is: \",num1)\n",
    "        num2=int(input(\"enter num 2: \"))\n",
    "        print(\"Entered num2 is: \",num2)\n",
    "    elif choice==8 :\n",
    "        print(\"\\nExiting calculator...\")\n",
    "        break\n",
    "    else:\n",
    "        print(\"Invalid choice. Please enter a number between 1 and 8.\")\n",
    "        break\n",
    "\n",
    "    if(choice==1):\n",
    "        print(\"\\nAddtion of two given numbers\",num1,\"+\",num2,\"=\",num1+num2)\n",
    "    elif(choice==2):\n",
    "        print(\"\\nSubtraction of two given numbers\",num1,\"-\",num2,\"=\",num1-num2)\n",
    "    elif(choice==3):\n",
    "        print(\"\\nMultiplication of two given numbers\",num1,\"*\",num2,\"=\",num1*num2)\n",
    "    elif(choice==4):\n",
    "        print(\"\\nDivision of two given numbers\",num1,\"/\",num2,\"=\",num1/num2)\n",
    "    elif(choice==5):\n",
    "        print(\"\\nModulus of two given numbers\",num1,\"%\",num2,\"=\",num1%num2)\n",
    "    elif(choice==6):\n",
    "        print(\"\\nFloor Division of two given numbers\",num1,\"//\",num2,\"=\",num1//num2)\n",
    "    elif(choice==7):\n",
    "        print(\"\\nExponential of two given numbers\",num1,\"**\",num2,\"=\",num1**num2)\n",
    "    else:\n",
    "        print(\"\\nInvalid choice. Please enter a number between 1 and 8.\")\n",
    "        break\n",
    "\n",
    "\n",
    "\n",
    "\n",
    "\n"
   ]
  }
 ],
 "metadata": {
  "kernelspec": {
   "display_name": "Python 3",
   "language": "python",
   "name": "python3"
  },
  "language_info": {
   "codemirror_mode": {
    "name": "ipython",
    "version": 3
   },
   "file_extension": ".py",
   "mimetype": "text/x-python",
   "name": "python",
   "nbconvert_exporter": "python",
   "pygments_lexer": "ipython3",
   "version": "3.12.3"
  }
 },
 "nbformat": 4,
 "nbformat_minor": 2
}
