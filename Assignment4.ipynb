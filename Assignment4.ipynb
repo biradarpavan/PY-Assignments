{
 "cells": [
  {
   "cell_type": "code",
   "execution_count": 4,
   "metadata": {},
   "outputs": [
    {
     "name": "stdout",
     "output_type": "stream",
     "text": [
      "Summary written to feedback_summary.txt\n"
     ]
    }
   ],
   "source": [
    "def read_feedback(files):  # Function to read data from the files\n",
    "    feedbacks = []  # All the contents of the feedback file we will store into this list\n",
    "    for file in files:\n",
    "        try:# here we use try except to catch the error if the file not found \n",
    "            f = open(file, \"r\")\n",
    "            feedbacks.extend(f.readlines())\n",
    "        except FileNotFoundError:\n",
    "            print(f\"Error: The file {file} was not found.\")\n",
    "    return feedbacks\n",
    "\n",
    "def process_feedback(feedbacks):\n",
    "    feedback_process = []\n",
    "    total_rating = 0\n",
    "    for feedback in feedbacks:\n",
    "        try:# here we use try except to Handle invalid feedback format\n",
    "            name, rest = feedback.split(':', 1)# Split the feedback into name, rating, and comment\n",
    "            rating, comment = rest.split('-', 1)\n",
    "            rating = int(rating.strip())  # Convert rating to an integer\n",
    "            comment = comment.strip()  # Strip whitespace from comment\n",
    "            feedback_process.append((name.strip(), rating, comment))\n",
    "            total_rating += rating  # Add rating to the total\n",
    "        except ValueError:\n",
    "            print(f\"Error: Invalid feedback format: {feedback}\")\n",
    "    \n",
    "    # Calculate average rating if there are any feedback entries\n",
    "    if feedback_process:\n",
    "        average_rating = total_rating / len(feedback_process)\n",
    "    else:\n",
    "        average_rating = 0\n",
    "\n",
    "    return feedback_process, average_rating\n",
    "\n",
    "def write_summary(feedback_process, average_rating, output_file):\n",
    "    try:\n",
    "        f = open(output_file, \"w\")\n",
    "        # Write total feedback entries and average rating\n",
    "        f.write(f\"Total Feedback Entries: {len(feedback_process)}\\n\")\n",
    "        f.write(f\"Average Rating: {average_rating:.2f}\\n\\n\")\n",
    "        f.write(\"Feedbacks:\\n\")\n",
    "        # Write each feedback entry\n",
    "        for entry in feedback_process:\n",
    "            f.write(f\"{entry[0]}: {entry[1]} - {entry[2]}\\n\")\n",
    "    except Exception as e:\n",
    "        print(f\"Error: An error occurred while writing to the file {output_file}: {e}\")\n",
    "\n",
    "def main():\n",
    "    input_files = ['feedback1.txt', 'feedback2.txt', 'feedback3.txt']# List of input files\n",
    "    output_file = 'feedback_summary.txt'\n",
    "    feedbacks = read_feedback(input_files)# Read feedback from the input files\n",
    "    feedback_process, average_rating = process_feedback(feedbacks)# Process the feedback data\n",
    "    write_summary(feedback_process, average_rating, output_file)# Write the processed data to the summary file\n",
    "    print(f\"Summary written to {output_file}\")\n",
    "\n",
    "main()# here we Call the main function directly\n"
   ]
  },
  {
   "cell_type": "code",
   "execution_count": 1,
   "metadata": {},
   "outputs": [
    {
     "name": "stdout",
     "output_type": "stream",
     "text": [
      "1 : celsius to fahrenheit\n",
      "2 : fahrenheit to celsius\n",
      "3 : exit\n",
      "Invalid choice.\n",
      "1 : celsius to fahrenheit\n",
      "2 : fahrenheit to celsius\n",
      "3 : exit\n",
      "100.00°F is equivalent to 212.00°C\n",
      "1 : celsius to fahrenheit\n",
      "2 : fahrenheit to celsius\n",
      "3 : exit\n",
      "100.00°C is equivalent to 37.78°F\n",
      "1 : celsius to fahrenheit\n",
      "2 : fahrenheit to celsius\n",
      "3 : exit\n",
      "Exiting...\n"
     ]
    }
   ],
   "source": [
    "while True:\n",
    "    print(\"1 : celsius to fahrenheit\")\n",
    "    print(\"2 : fahrenheit to celsius\")\n",
    "    print(\"3 : exit\")\n",
    "    \n",
    "    temperature = float(input(\"Enter temperature: \"))\n",
    "\n",
    "    choice = int(input(\"Enter choice : \"))\n",
    "\n",
    "    if choice == 1:\n",
    "        converted_temp = (temperature * 9 / 5) + 32\n",
    "        print(f\"\\n{temperature} is equivalent to {converted_temp}\")\n",
    "\n",
    "    elif choice == 2:\n",
    "        converted_temp = (temperature - 32) * 5 / 9\n",
    "        print(f\"\\n{temperature} is equivalent to {converted_temp}\")\n",
    "\n",
    "    elif choice ==3:\n",
    "        print('\\nExiting...')\n",
    "        break\n",
    "\n",
    "    else:\n",
    "        print(\"Invalid choice.\")\n",
    "\n"
   ]
  }
 ],
 "metadata": {
  "kernelspec": {
   "display_name": "Python 3",
   "language": "python",
   "name": "python3"
  },
  "language_info": {
   "codemirror_mode": {
    "name": "ipython",
    "version": 3
   },
   "file_extension": ".py",
   "mimetype": "text/x-python",
   "name": "python",
   "nbconvert_exporter": "python",
   "pygments_lexer": "ipython3",
   "version": "3.12.3"
  }
 },
 "nbformat": 4,
 "nbformat_minor": 2
}
